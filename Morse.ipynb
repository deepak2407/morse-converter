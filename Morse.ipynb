{
  "nbformat": 4,
  "nbformat_minor": 0,
  "metadata": {
    "colab": {
      "name": "Morse.ipynb",
      "provenance": [],
      "authorship_tag": "ABX9TyONdgoQTXe4GacJB9p6q6zh",
      "include_colab_link": true
    },
    "kernelspec": {
      "name": "python3",
      "display_name": "Python 3"
    }
  },
  "cells": [
    {
      "cell_type": "markdown",
      "metadata": {
        "id": "view-in-github",
        "colab_type": "text"
      },
      "source": [
        "<a href=\"https://colab.research.google.com/github/deepak2407/morse-converter/blob/main/Morse.ipynb\" target=\"_parent\"><img src=\"https://colab.research.google.com/assets/colab-badge.svg\" alt=\"Open In Colab\"/></a>"
      ]
    },
    {
      "cell_type": "code",
      "metadata": {
        "id": "nTSaEfqNoUED"
      },
      "source": [
        "morse_codes = [\".-\",\"-...\",\"-.-.\",\"-..\",\".\",\"..-.\",\"--.\",\"....\",\"..\",\".---\",\"-.-\",\".-..\",\"--\",\"-.\",\"---\",\".--.\",\"--.-\",\".-.\",\"...\",\"-\",\"..-\",\"...-\",\".--\",\"-..-\",\"-.--\",\"--..\"]"
      ],
      "execution_count": null,
      "outputs": []
    },
    {
      "cell_type": "code",
      "metadata": {
        "id": "_ek75yzkphvS"
      },
      "source": [
        "alpha=[]\n",
        "for i in range(97,123):\n",
        "  alpha.append(chr(i))"
      ],
      "execution_count": null,
      "outputs": []
    },
    {
      "cell_type": "code",
      "metadata": {
        "id": "LrkEHJSgqmnt"
      },
      "source": [
        "def convert(word):\n",
        "  morse_string=[]\n",
        "  for i in word:\n",
        "    if i in alpha:\n",
        "      ind=alpha.index(i)\n",
        "      morse_string.append(morse_codes[ind])\n",
        "  print(morse_string)"
      ],
      "execution_count": null,
      "outputs": []
    },
    {
      "cell_type": "code",
      "metadata": {
        "colab": {
          "base_uri": "https://localhost:8080/"
        },
        "id": "iBWcZxnZp9Dn",
        "outputId": "97b57af5-b371-4bd0-802f-c6e199916e5c"
      },
      "source": [
        "inp = input(\"enter word to be converted into morse code \")\n",
        "convert(inp.lower())"
      ],
      "execution_count": null,
      "outputs": [
        {
          "output_type": "stream",
          "text": [
            "enter word to be converted into morse codea\n",
            "['.-']\n"
          ],
          "name": "stdout"
        }
      ]
    }
  ]
}